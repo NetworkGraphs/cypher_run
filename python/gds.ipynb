{
 "cells": [
  {
   "cell_type": "code",
   "execution_count": 1,
   "id": "6051ae45-459f-438d-97e6-c2fe175142ca",
   "metadata": {},
   "outputs": [],
   "source": [
    "from graphdatascience import GraphDataScience\n",
    "\n",
    "gds = GraphDataScience(\"bolt://localhost:7687\", auth=(\"neo4j\", \"test\"))"
   ]
  },
  {
   "cell_type": "code",
   "execution_count": 3,
   "id": "712ecd42-11a6-4d03-8d9b-fbd998203480",
   "metadata": {},
   "outputs": [],
   "source": [
    "G, res = gds.graph.project(\n",
    "    \"purchase-proj\",\n",
    "    [\"Person\", \"Product\"],\n",
    "    [\"BUYS\",\"CHILD_OF\"]\n",
    ")"
   ]
  },
  {
   "cell_type": "code",
   "execution_count": 5,
   "id": "e3b308c2-8927-4626-97c2-6bd4c6343684",
   "metadata": {},
   "outputs": [
    {
     "data": {
      "text/plain": [
       "30"
      ]
     },
     "execution_count": 5,
     "metadata": {},
     "output_type": "execute_result"
    }
   ],
   "source": [
    "G.node_count()"
   ]
  },
  {
   "cell_type": "code",
   "execution_count": 8,
   "id": "9a487320-c5d6-49fd-b690-ed96aa717c46",
   "metadata": {},
   "outputs": [
    {
     "data": {
      "text/plain": [
       "[]"
      ]
     },
     "execution_count": 8,
     "metadata": {},
     "output_type": "execute_result"
    }
   ],
   "source": [
    "G.node_properties(\"Product\")"
   ]
  },
  {
   "cell_type": "code",
   "execution_count": null,
   "id": "01d42440-66ee-4781-9a43-958cfd234206",
   "metadata": {},
   "outputs": [],
   "source": []
  }
 ],
 "metadata": {
  "kernelspec": {
   "display_name": "Python 3 (ipykernel)",
   "language": "python",
   "name": "python3"
  },
  "language_info": {
   "codemirror_mode": {
    "name": "ipython",
    "version": 3
   },
   "file_extension": ".py",
   "mimetype": "text/x-python",
   "name": "python",
   "nbconvert_exporter": "python",
   "pygments_lexer": "ipython3",
   "version": "3.8.10"
  }
 },
 "nbformat": 4,
 "nbformat_minor": 5
}
