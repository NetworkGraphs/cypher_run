{
 "cells": [
  {
   "cell_type": "code",
   "execution_count": 1,
   "id": "6051ae45-459f-438d-97e6-c2fe175142ca",
   "metadata": {},
   "outputs": [],
   "source": [
    "from graphdatascience import GraphDataScience\n",
    "\n",
    "gds = GraphDataScience(\"bolt://localhost:7687\", auth=(\"neo4j\", \"test\"))"
   ]
  },
  {
   "cell_type": "markdown",
   "id": "2e307919-1a3d-43a0-8716-2fb5473abd6a",
   "metadata": {},
   "source": [
    "Graph creation was performed with Cypher, see `cypher\\gds\\01 create.cyp`"
   ]
  },
  {
   "cell_type": "code",
   "execution_count": 23,
   "id": "712ecd42-11a6-4d03-8d9b-fbd998203480",
   "metadata": {},
   "outputs": [],
   "source": [
    "G, res = gds.graph.project(\n",
    "    \"purchase-proj3\",\n",
    "    [\"Person\", \"Product\"],\n",
    "    [\"SIMILAR\"]\n",
    ")"
   ]
  },
  {
   "cell_type": "code",
   "execution_count": 12,
   "id": "2fbc3127-4be3-4e92-88ad-ecee912b6f74",
   "metadata": {},
   "outputs": [
    {
     "data": {
      "text/plain": [
       "graphdatascience.graph.graph_object.Graph"
      ]
     },
     "execution_count": 12,
     "metadata": {},
     "output_type": "execute_result"
    }
   ],
   "source": [
    "type(G)"
   ]
  },
  {
   "cell_type": "code",
   "execution_count": 5,
   "id": "e3b308c2-8927-4626-97c2-6bd4c6343684",
   "metadata": {},
   "outputs": [
    {
     "data": {
      "text/plain": [
       "30"
      ]
     },
     "execution_count": 5,
     "metadata": {},
     "output_type": "execute_result"
    }
   ],
   "source": [
    "G.node_count()"
   ]
  },
  {
   "cell_type": "code",
   "execution_count": 9,
   "id": "01d42440-66ee-4781-9a43-958cfd234206",
   "metadata": {},
   "outputs": [
    {
     "data": {
      "text/plain": [
       "39"
      ]
     },
     "execution_count": 9,
     "metadata": {},
     "output_type": "execute_result"
    }
   ],
   "source": [
    "G.relationship_count()"
   ]
  },
  {
   "cell_type": "code",
   "execution_count": 8,
   "id": "9a487320-c5d6-49fd-b690-ed96aa717c46",
   "metadata": {},
   "outputs": [
    {
     "data": {
      "text/plain": [
       "[]"
      ]
     },
     "execution_count": 8,
     "metadata": {},
     "output_type": "execute_result"
    }
   ],
   "source": [
    "G.node_properties(\"Product\")"
   ]
  },
  {
   "cell_type": "code",
   "execution_count": 21,
   "id": "09edc63d-8531-4203-aed8-909e2bc6ccf9",
   "metadata": {},
   "outputs": [
    {
     "data": {
      "text/plain": [
       "nodeProjection            {'Product': {'label': 'Product', 'properties':...\n",
       "relationshipProjection    {'BUYS': {'orientation': 'NATURAL', 'aggregati...\n",
       "graphName                                                    purchase-proj2\n",
       "nodeCount                                                                30\n",
       "relationshipCount                                                       133\n",
       "projectMillis                                                            10\n",
       "Name: 0, dtype: object"
      ]
     },
     "execution_count": 21,
     "metadata": {},
     "output_type": "execute_result"
    }
   ],
   "source": [
    "res"
   ]
  },
  {
   "cell_type": "code",
   "execution_count": 11,
   "id": "608fadac-18ce-48a4-a1e0-65f5564d576e",
   "metadata": {},
   "outputs": [
    {
     "data": {
      "text/plain": [
       "pandas.core.series.Series"
      ]
     },
     "execution_count": 11,
     "metadata": {},
     "output_type": "execute_result"
    }
   ],
   "source": [
    "type(res)"
   ]
  },
  {
   "cell_type": "code",
   "execution_count": null,
   "id": "e76792e3-96db-41bd-9c8c-ad88f5b32fb3",
   "metadata": {},
   "outputs": [],
   "source": [
    "fastrp_res = gds.fastRP.mutate(G,\n",
    "    embeddingDimension= 4,\n",
    "    randomSeed= 42,\n",
    "    mutateProperty= 'SIMILAR',\n",
    "    relationshipWeightProperty= 'score',\n",
    "    iterationWeights= [0.8, 1, 1, 1])"
   ]
  }
 ],
 "metadata": {
  "kernelspec": {
   "display_name": "Python 3 (ipykernel)",
   "language": "python",
   "name": "python3"
  },
  "language_info": {
   "codemirror_mode": {
    "name": "ipython",
    "version": 3
   },
   "file_extension": ".py",
   "mimetype": "text/x-python",
   "name": "python",
   "nbconvert_exporter": "python",
   "pygments_lexer": "ipython3",
   "version": "3.8.10"
  }
 },
 "nbformat": 4,
 "nbformat_minor": 5
}
