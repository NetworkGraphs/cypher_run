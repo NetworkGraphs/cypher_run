{
 "cells": [
  {
   "cell_type": "code",
   "execution_count": 2,
   "id": "6051ae45-459f-438d-97e6-c2fe175142ca",
   "metadata": {},
   "outputs": [],
   "source": [
    "from graphdatascience import GraphDataScience\n",
    "\n",
    "gds = GraphDataScience(\"bolt://localhost:7687\", auth=(\"neo4j\", \"test\"))"
   ]
  },
  {
   "cell_type": "markdown",
   "id": "2e307919-1a3d-43a0-8716-2fb5473abd6a",
   "metadata": {},
   "source": [
    "Graph creation was performed with Cypher, see `cypher\\gds\\01 create.cyp`"
   ]
  },
  {
   "cell_type": "code",
   "execution_count": null,
   "id": "712ecd42-11a6-4d03-8d9b-fbd998203480",
   "metadata": {},
   "outputs": [],
   "source": [
    "G, res = gds.graph.project(\n",
    "    \"proj-prog-1\",\n",
    "    [\"Person\", \"Program\"],\n",
    "    [\"knows\",\"created\"]\n",
    ")"
   ]
  },
  {
   "cell_type": "code",
   "execution_count": 5,
   "id": "c7bfb299-e10a-4acd-8e24-3cbc3a54994b",
   "metadata": {},
   "outputs": [],
   "source": [
    "G = gds.graph.get(\"proj-prog-1\")"
   ]
  },
  {
   "cell_type": "code",
   "execution_count": 19,
   "id": "608fadac-18ce-48a4-a1e0-65f5564d576e",
   "metadata": {},
   "outputs": [
    {
     "data": {
      "text/plain": [
       "{'Program': {'label': 'Program', 'properties': {}},\n",
       " 'Person': {'label': 'Person', 'properties': {}}}"
      ]
     },
     "execution_count": 19,
     "metadata": {},
     "output_type": "execute_result"
    }
   ],
   "source": [
    "res.nodeProjection"
   ]
  },
  {
   "cell_type": "code",
   "execution_count": 6,
   "id": "d72d1b53-a1d6-4b11-abfd-228c19cc2e65",
   "metadata": {},
   "outputs": [],
   "source": [
    "res = gds.run_cypher(\"match (n) return n\")"
   ]
  },
  {
   "cell_type": "code",
   "execution_count": 7,
   "id": "b7309f0f-7f76-477e-802c-f3ab4dc99471",
   "metadata": {},
   "outputs": [
    {
     "name": "stdout",
     "output_type": "stream",
     "text": [
      "<Node id=0 labels=frozenset({'Program'}) properties={'name': 'lop', 'lang': 'java'}>\n",
      "0\n",
      "frozenset({'Program'})\n",
      "lop\n"
     ]
    }
   ],
   "source": [
    "print(res.n[0])\n",
    "print(res.n[0].id)\n",
    "print(res.n[0].labels)\n",
    "print(res.n[0]['name'])"
   ]
  },
  {
   "cell_type": "code",
   "execution_count": 8,
   "id": "7489e058-d3fc-422d-b4e5-a27bbb50dfa4",
   "metadata": {},
   "outputs": [],
   "source": [
    "node0 = res.n[0]"
   ]
  },
  {
   "cell_type": "code",
   "execution_count": null,
   "id": "c07d2230-1c3d-4c00-a69d-d00e86013c5a",
   "metadata": {},
   "outputs": [],
   "source": []
  }
 ],
 "metadata": {
  "kernelspec": {
   "display_name": "Python 3 (ipykernel)",
   "language": "python",
   "name": "python3"
  },
  "language_info": {
   "codemirror_mode": {
    "name": "ipython",
    "version": 3
   },
   "file_extension": ".py",
   "mimetype": "text/x-python",
   "name": "python",
   "nbconvert_exporter": "python",
   "pygments_lexer": "ipython3",
   "version": "3.8.10"
  }
 },
 "nbformat": 4,
 "nbformat_minor": 5
}
