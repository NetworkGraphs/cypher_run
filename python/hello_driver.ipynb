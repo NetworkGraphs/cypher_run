{
 "cells": [
  {
   "cell_type": "code",
   "execution_count": 1,
   "id": "abd30964-c806-48f0-9141-79ce94236881",
   "metadata": {},
   "outputs": [],
   "source": [
    "from neo4j import GraphDatabase\n",
    "\n",
    "driver = GraphDatabase.driver(\"bolt://localhost:7687\", auth=(\"neo4j\", \"test\"))"
   ]
  },
  {
   "cell_type": "code",
   "execution_count": 14,
   "id": "49ff3ee8-a8b1-4f4f-baf7-96764f412fc8",
   "metadata": {},
   "outputs": [],
   "source": [
    "def create_and_return_greeting(tx, message):\n",
    "    result = tx.run(f'''\n",
    "                    CREATE (a:Greeting)\n",
    "                    SET a.message = '{message}'\n",
    "                    RETURN a.message + ', from node ' + id(a)\n",
    "                    ''')\n",
    "    return result.single()[0]"
   ]
  },
  {
   "cell_type": "code",
   "execution_count": 16,
   "id": "86434804-4900-4e41-b55b-e1269a92b9b2",
   "metadata": {},
   "outputs": [
    {
     "name": "stdout",
     "output_type": "stream",
     "text": [
      "hello, world3, from node 36\n"
     ]
    }
   ],
   "source": [
    "with driver.session() as session:\n",
    "    greeting = session.write_transaction(create_and_return_greeting, \"hello, world3\")\n",
    "    print(greeting)"
   ]
  },
  {
   "cell_type": "code",
   "execution_count": null,
   "id": "6aeae2fc-be73-4348-b0e9-f0ce0ca84bec",
   "metadata": {},
   "outputs": [],
   "source": [
    "driver.close()"
   ]
  }
 ],
 "metadata": {
  "kernelspec": {
   "display_name": "Python 3 (ipykernel)",
   "language": "python",
   "name": "python3"
  },
  "language_info": {
   "codemirror_mode": {
    "name": "ipython",
    "version": 3
   },
   "file_extension": ".py",
   "mimetype": "text/x-python",
   "name": "python",
   "nbconvert_exporter": "python",
   "pygments_lexer": "ipython3",
   "version": "3.8.10"
  }
 },
 "nbformat": 4,
 "nbformat_minor": 5
}
