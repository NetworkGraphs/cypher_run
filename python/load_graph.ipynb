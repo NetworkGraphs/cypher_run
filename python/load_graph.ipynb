{
 "cells": [
  {
   "cell_type": "code",
   "execution_count": 1,
   "id": "abd30964-c806-48f0-9141-79ce94236881",
   "metadata": {},
   "outputs": [],
   "source": [
    "from neo4j import GraphDatabase\n",
    "import cypher_utils as ctl\n",
    "from cypher_utils import cypher\n",
    "import utils as utl\n",
    "\n",
    "ctl.open(\"bolt://localhost:7687\", \"neo4j\", \"test\")"
   ]
  },
  {
   "cell_type": "code",
   "execution_count": 2,
   "id": "6714cfac-c686-411e-ac7a-714ae7ab25e8",
   "metadata": {},
   "outputs": [
    {
     "data": {
      "text/plain": [
       "6"
      ]
     },
     "execution_count": 2,
     "metadata": {},
     "output_type": "execute_result"
    }
   ],
   "source": [
    "json_graph = utl.load_json(\"Graph_blueprints.json\")\n",
    "len(json_graph[\"nodes\"])"
   ]
  },
  {
   "cell_type": "code",
   "execution_count": 3,
   "id": "c23cbdf1-a9c1-4649-86ab-a6dd0eaf2f95",
   "metadata": {},
   "outputs": [],
   "source": [
    "cypher(\"match (n) detach delete n\")"
   ]
  },
  {
   "cell_type": "code",
   "execution_count": 4,
   "id": "20d1dc56-063d-4a11-8ee2-26aa84e63f31",
   "metadata": {},
   "outputs": [
    {
     "name": "stdout",
     "output_type": "stream",
     "text": [
      "CREATE \n",
      " (lop:Program {name:'lop', lang:'java'}),\n",
      " (vadas:Person {name:'vadas', age:27}),\n",
      " (marko:Person {name:'marko', age:29}),\n",
      " (peter:Person {name:'peter', age:35}),\n",
      " (ripple:Program {name:'ripple', lang:'java'}),\n",
      " (josh:Person {name:'josh', age:32}),\n",
      " (josh)-[:created {weight:1}]->(ripple),\n",
      " (marko)-[:knows {weight:0.5}]->(vadas),\n",
      " (marko)-[:created {weight:0.4}]->(lop),\n",
      " (marko)-[:knows {weight:1}]->(josh),\n",
      " (josh)-[:created {weight:0.4}]->(lop),\n",
      " (peter)-[:created {weight:0.2}]->(lop);\n"
     ]
    }
   ],
   "source": [
    "cmd = ctl.json_to_cypher(json_graph)\n",
    "print(cmd)"
   ]
  },
  {
   "cell_type": "code",
   "execution_count": 5,
   "id": "0a70b3c6-acd7-4497-8be7-1962d79772bc",
   "metadata": {},
   "outputs": [],
   "source": [
    "cypher(cmd)"
   ]
  },
  {
   "cell_type": "code",
   "execution_count": 6,
   "id": "de154e7e-8d71-48ce-a16a-f6324a91be53",
   "metadata": {},
   "outputs": [
    {
     "ename": "TypeError",
     "evalue": "write() argument must be str, not bytes",
     "output_type": "error",
     "traceback": [
      "\u001b[0;31m---------------------------------------------------------------------------\u001b[0m",
      "\u001b[0;31mTypeError\u001b[0m                                 Traceback (most recent call last)",
      "Input \u001b[0;32mIn [6]\u001b[0m, in \u001b[0;36m<cell line: 1>\u001b[0;34m()\u001b[0m\n\u001b[0;32m----> 1\u001b[0m \u001b[43mutl\u001b[49m\u001b[38;5;241;43m.\u001b[39;49m\u001b[43msave_file\u001b[49m\u001b[43m(\u001b[49m\u001b[38;5;124;43m\"\u001b[39;49m\u001b[38;5;124;43mGraph_blueprint.cyp\u001b[39;49m\u001b[38;5;124;43m\"\u001b[39;49m\u001b[43m,\u001b[49m\u001b[43mcmd\u001b[49m\u001b[43m)\u001b[49m\n",
      "File \u001b[0;32m/mnt/d/Dev/NetworkGraphs/test_neo4j/python/utils.py:19\u001b[0m, in \u001b[0;36msave_file\u001b[0;34m(fileName, data)\u001b[0m\n\u001b[1;32m     17\u001b[0m \u001b[38;5;28;01mdef\u001b[39;00m \u001b[38;5;21msave_file\u001b[39m(fileName,data):\n\u001b[1;32m     18\u001b[0m     data_file \u001b[38;5;241m=\u001b[39m \u001b[38;5;28mopen\u001b[39m(fileName, \u001b[38;5;124m\"\u001b[39m\u001b[38;5;124mw\u001b[39m\u001b[38;5;124m\"\u001b[39m)\n\u001b[0;32m---> 19\u001b[0m     \u001b[43mdata_file\u001b[49m\u001b[38;5;241;43m.\u001b[39;49m\u001b[43mwrite\u001b[49m\u001b[43m(\u001b[49m\u001b[43mdata\u001b[49m\u001b[38;5;241;43m.\u001b[39;49m\u001b[43mencode\u001b[49m\u001b[43m(\u001b[49m\u001b[38;5;124;43m\"\u001b[39;49m\u001b[38;5;124;43mutf-8\u001b[39;49m\u001b[38;5;124;43m\"\u001b[39;49m\u001b[43m)\u001b[49m\u001b[43m)\u001b[49m\n\u001b[1;32m     20\u001b[0m     data_file\u001b[38;5;241m.\u001b[39mclose()\n\u001b[1;32m     21\u001b[0m     \u001b[38;5;28mprint\u001b[39m(\u001b[38;5;124mf\u001b[39m\u001b[38;5;124m\"\u001b[39m\u001b[38;5;132;01m{\u001b[39;00m\u001b[38;5;28mlen\u001b[39m(data)\u001b[38;5;132;01m}\u001b[39;00m\u001b[38;5;124m bytes saved in \u001b[39m\u001b[38;5;132;01m{\u001b[39;00mfileName\u001b[38;5;132;01m}\u001b[39;00m\u001b[38;5;124m\"\u001b[39m)\n",
      "\u001b[0;31mTypeError\u001b[0m: write() argument must be str, not bytes"
     ]
    }
   ],
   "source": [
    "utl.save_file(\"Graph_blueprint.cyp\",cmd)"
   ]
  },
  {
   "cell_type": "code",
   "execution_count": null,
   "id": "7c739342-d424-43b7-926e-8df6dd1757f0",
   "metadata": {},
   "outputs": [],
   "source": []
  }
 ],
 "metadata": {
  "kernelspec": {
   "display_name": "Python 3 (ipykernel)",
   "language": "python",
   "name": "python3"
  },
  "language_info": {
   "codemirror_mode": {
    "name": "ipython",
    "version": 3
   },
   "file_extension": ".py",
   "mimetype": "text/x-python",
   "name": "python",
   "nbconvert_exporter": "python",
   "pygments_lexer": "ipython3",
   "version": "3.8.10"
  }
 },
 "nbformat": 4,
 "nbformat_minor": 5
}
