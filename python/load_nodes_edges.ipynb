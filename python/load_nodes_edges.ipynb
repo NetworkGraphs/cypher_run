{
 "cells": [
  {
   "cell_type": "code",
   "execution_count": 1,
   "id": "abd30964-c806-48f0-9141-79ce94236881",
   "metadata": {},
   "outputs": [],
   "source": [
    "from neo4j import GraphDatabase\n",
    "import cypher_utils as ctl\n",
    "from cypher_utils import cypher\n",
    "import utils as utl\n",
    "\n",
    "ctl.open(\"bolt://localhost:7687\", \"neo4j\", \"test\")"
   ]
  },
  {
   "cell_type": "code",
   "execution_count": 2,
   "id": "6714cfac-c686-411e-ac7a-714ae7ab25e8",
   "metadata": {},
   "outputs": [
    {
     "data": {
      "text/plain": [
       "6"
      ]
     },
     "execution_count": 2,
     "metadata": {},
     "output_type": "execute_result"
    }
   ],
   "source": [
    "json_graph = utl.load_json(\"Graph_blueprints.json\")\n",
    "len(json_graph[\"nodes\"])"
   ]
  },
  {
   "cell_type": "code",
   "execution_count": 3,
   "id": "c23cbdf1-a9c1-4649-86ab-a6dd0eaf2f95",
   "metadata": {},
   "outputs": [],
   "source": [
    "cypher(\"match (n) detach delete n\")"
   ]
  },
  {
   "cell_type": "code",
   "execution_count": 4,
   "id": "20d1dc56-063d-4a11-8ee2-26aa84e63f31",
   "metadata": {},
   "outputs": [
    {
     "name": "stdout",
     "output_type": "stream",
     "text": [
      "CREATE \n",
      " (lop:Program {name:'lop', lang:'java'}),\n",
      " (vadas:Person {name:'vadas', age:27}),\n",
      " (marko:Person {name:'marko', age:29}),\n",
      " (peter:Person {name:'peter', age:35}),\n",
      " (ripple:Program {name:'ripple', lang:'java'}),\n",
      " (josh:Person {name:'josh', age:32}),\n",
      " (josh)-[:created {weight:1}]->(ripple),\n",
      " (marko)-[:knows {weight:0.5}]->(vadas),\n",
      " (marko)-[:created {weight:0.4}]->(lop),\n",
      " (marko)-[:knows {weight:1}]->(josh),\n",
      " (josh)-[:created {weight:0.4}]->(lop),\n",
      " (peter)-[:created {weight:0.2}]->(lop);\n"
     ]
    }
   ],
   "source": [
    "cmd = ctl.json_nodes_edges_to_cypher(json_graph)\n",
    "print(cmd)"
   ]
  },
  {
   "cell_type": "code",
   "execution_count": 5,
   "id": "0a70b3c6-acd7-4497-8be7-1962d79772bc",
   "metadata": {},
   "outputs": [],
   "source": [
    "cypher(cmd)"
   ]
  },
  {
   "cell_type": "code",
   "execution_count": 6,
   "id": "de154e7e-8d71-48ce-a16a-f6324a91be53",
   "metadata": {},
   "outputs": [
    {
     "name": "stdout",
     "output_type": "stream",
     "text": [
      "497 bytes saved in Graph_blueprint.cyp\n"
     ]
    }
   ],
   "source": [
    "utl.save_file(\"Graph_blueprint.cyp\",cmd)"
   ]
  },
  {
   "cell_type": "code",
   "execution_count": null,
   "id": "7c739342-d424-43b7-926e-8df6dd1757f0",
   "metadata": {},
   "outputs": [],
   "source": []
  }
 ],
 "metadata": {
  "kernelspec": {
   "display_name": "Python 3 (ipykernel)",
   "language": "python",
   "name": "python3"
  },
  "language_info": {
   "codemirror_mode": {
    "name": "ipython",
    "version": 3
   },
   "file_extension": ".py",
   "mimetype": "text/x-python",
   "name": "python",
   "nbconvert_exporter": "python",
   "pygments_lexer": "ipython3",
   "version": "3.8.10"
  }
 },
 "nbformat": 4,
 "nbformat_minor": 5
}
