{
 "cells": [
  {
   "cell_type": "code",
   "execution_count": 1,
   "id": "abd30964-c806-48f0-9141-79ce94236881",
   "metadata": {},
   "outputs": [],
   "source": [
    "from neo4j import GraphDatabase\n",
    "import cypher_utils as ctl\n",
    "import utils as utl\n",
    "\n",
    "driver = GraphDatabase.driver(\"bolt://localhost:7687\", auth=(\"neo4j\", \"test\"))"
   ]
  },
  {
   "cell_type": "code",
   "execution_count": 2,
   "id": "327a8b16-7aa9-4fa8-b89d-1e99c1409395",
   "metadata": {},
   "outputs": [],
   "source": [
    "def cypher(cmd):\n",
    "    ctl.run(driver,cmd)"
   ]
  },
  {
   "cell_type": "code",
   "execution_count": 3,
   "id": "6714cfac-c686-411e-ac7a-714ae7ab25e8",
   "metadata": {},
   "outputs": [],
   "source": [
    "json_graph = utl.load_json(\"Graph_blueprints.json\")"
   ]
  },
  {
   "cell_type": "code",
   "execution_count": 4,
   "id": "20d1dc56-063d-4a11-8ee2-26aa84e63f31",
   "metadata": {},
   "outputs": [
    {
     "data": {
      "text/plain": [
       "6"
      ]
     },
     "execution_count": 4,
     "metadata": {},
     "output_type": "execute_result"
    }
   ],
   "source": [
    "len(json_graph[\"nodes\"])"
   ]
  },
  {
   "cell_type": "markdown",
   "id": "3a9c540e-2bbb-4385-884f-37f7d9d9498f",
   "metadata": {},
   "source": [
    "- one create command per node, hardcoded uid as name\n",
    "- usage of create requires a clean first, otherwise use merge"
   ]
  },
  {
   "cell_type": "code",
   "execution_count": 7,
   "id": "30d43ed6-091e-4d5c-82fb-c2d6d9013c51",
   "metadata": {},
   "outputs": [
    {
     "name": "stdout",
     "output_type": "stream",
     "text": [
      "CREATE (p:Program {name:'lop' })\n",
      "CREATE (p:Person {name:'vadas' })\n",
      "CREATE (p:Person {name:'marko' })\n",
      "CREATE (p:Person {name:'peter' })\n",
      "CREATE (p:Program {name:'ripple' })\n",
      "CREATE (p:Person {name:'josh' })\n"
     ]
    }
   ],
   "source": [
    "for n in json_graph[\"nodes\"]:\n",
    "    cmd = f\"CREATE (p:{n['_label']} {{name:'{n['name']}' }})\"\n",
    "    print(cmd)\n",
    "    cypher(cmd)"
   ]
  },
  {
   "cell_type": "markdown",
   "id": "bd2caa8c-7f8b-4980-b53f-23b7fe9118bf",
   "metadata": {},
   "source": [
    "one create command per node, generic properties excluding '_label'"
   ]
  },
  {
   "cell_type": "code",
   "execution_count": 5,
   "id": "d3ba6a2a-6a92-425b-8440-ed5060532402",
   "metadata": {},
   "outputs": [
    {
     "name": "stdout",
     "output_type": "stream",
     "text": [
      "CREATE (p:Program {name:'lop', lang:'java'})\n",
      "CREATE (p:Person {name:'vadas', age:'27'})\n",
      "CREATE (p:Person {name:'marko', age:'29'})\n",
      "CREATE (p:Person {name:'peter', age:'35'})\n",
      "CREATE (p:Program {name:'ripple', lang:'java'})\n",
      "CREATE (p:Person {name:'josh', age:'32'})\n"
     ]
    }
   ],
   "source": [
    "for n in json_graph[\"nodes\"]:\n",
    "    props = \"\"\n",
    "    prop_count = 0\n",
    "    for key,value in n.items():\n",
    "        if(key == \"_label\"):\n",
    "            continue\n",
    "        if(prop_count > 0):\n",
    "            props += \", \"\n",
    "        props += f\"{key}:'{n[key]}'\"\n",
    "        prop_count += 1\n",
    "    cmd = f\"CREATE (p:{n['_label']} {{{props}}})\"\n",
    "    print(cmd)\n",
    "    cypher(cmd)"
   ]
  },
  {
   "cell_type": "markdown",
   "id": "eef720cb-56f1-4a2e-8cd2-d4254f24305e",
   "metadata": {},
   "source": [
    "Single create command for all nodes, generic properties excluding '_label'"
   ]
  },
  {
   "cell_type": "code",
   "execution_count": 9,
   "id": "1a3c10bd-edd4-4fa0-ab0b-a7475ef3c571",
   "metadata": {},
   "outputs": [
    {
     "name": "stdout",
     "output_type": "stream",
     "text": [
      "CREATE \n",
      " (lop:Program {name:'lop', lang:'java'}),\n",
      " (vadas:Person {name:'vadas', age:'27'}),\n",
      " (marko:Person {name:'marko', age:'29'}),\n",
      " (peter:Person {name:'peter', age:'35'}),\n",
      " (ripple:Program {name:'ripple', lang:'java'}),\n",
      " (josh:Person {name:'josh', age:'32'});\n"
     ]
    }
   ],
   "source": [
    "uid = json_graph[\"edges_nodes_id\"]\n",
    "cmd = \"CREATE \"\n",
    "for n in json_graph[\"nodes\"]:\n",
    "    props = \"\"\n",
    "    prop_count = 0\n",
    "    for key,value in n.items():\n",
    "        if(key == \"_label\"):\n",
    "            continue\n",
    "        if(prop_count > 0):\n",
    "            props += \", \"\n",
    "        props += f\"{key}:'{n[key]}'\"\n",
    "        prop_count += 1\n",
    "    cmd += f\"\\n ({n[uid]}:{n['_label']} {{{props}}}),\"\n",
    "cmd = cmd[:-1]+\";\"\n",
    "print(cmd)\n",
    "cypher(cmd)"
   ]
  },
  {
   "cell_type": "markdown",
   "id": "382ff4b3-0b54-43f2-a8ac-160bcc99c119",
   "metadata": {},
   "source": [
    "- creation of edge in pre-existing graph using match\n",
    "- multiple hits create edge between all cross-matches\n",
    "- the cypher variables are temporary to the current cmd"
   ]
  },
  {
   "cell_type": "code",
   "execution_count": 12,
   "id": "a204cbc2-5f3a-44d9-af2f-2779dbf9647e",
   "metadata": {},
   "outputs": [],
   "source": [
    "cypher('''\n",
    "    MATCH (n) where n.name = 'josh'\n",
    "    MATCH (m) where m.name = 'ripple'\n",
    "    CREATE (n)-[:created {weight:0.4}]->(m)\n",
    "    ''')"
   ]
  },
  {
   "cell_type": "markdown",
   "id": "e2f69451-d548-4b7b-ad61-e8869760d464",
   "metadata": {},
   "source": [
    "create the whole graph with nodes and edges in one cypher command"
   ]
  },
  {
   "cell_type": "code",
   "execution_count": 18,
   "id": "1c13e012-2e27-41ae-b256-790f083c1c30",
   "metadata": {},
   "outputs": [
    {
     "name": "stdout",
     "output_type": "stream",
     "text": [
      "CREATE \n",
      " (lop:Program {name:'lop', lang:'java'}),\n",
      " (vadas:Person {name:'vadas', age:27}),\n",
      " (marko:Person {name:'marko', age:29}),\n",
      " (peter:Person {name:'peter', age:35}),\n",
      " (ripple:Program {name:'ripple', lang:'java'}),\n",
      " (josh:Person {name:'josh', age:32}),\n",
      " (josh)-[:created {weight:1}]->(ripple),\n",
      " (marko)-[:knows {weight:0.5}]->(vadas),\n",
      " (marko)-[:created {weight:0.4000000059604645}]->(lop),\n",
      " (marko)-[:knows {weight:1}]->(josh),\n",
      " (josh)-[:created {weight:0.4000000059604645}]->(lop),\n",
      " (peter)-[:created {weight:0.20000000298023224}]->(lop);\n"
     ]
    }
   ],
   "source": [
    "uid = json_graph[\"edges_nodes_id\"]\n",
    "cmd = \"CREATE \"\n",
    "for n in json_graph[\"nodes\"]:\n",
    "    props = \"\"\n",
    "    prop_count = 0\n",
    "    for key,value in n.items():\n",
    "        if(key == \"_label\"):\n",
    "            continue\n",
    "        if(prop_count > 0):\n",
    "            props += \", \"\n",
    "        if(type(n[key]) == str):\n",
    "            props += f\"{key}:'{n[key]}'\"\n",
    "        else:\n",
    "            props += f\"{key}:{n[key]}\"\n",
    "        prop_count += 1\n",
    "    cmd += f\"\\n ({n[uid]}:{n['_label']} {{{props}}}),\"\n",
    "\n",
    "\n",
    "for e in json_graph[\"edges\"]:\n",
    "    props = \"\"\n",
    "    prop_count = 0\n",
    "    for key,value in e.items():\n",
    "        if(key in [\"_label\",\"_in\",\"_out\"]):\n",
    "            continue\n",
    "        if(prop_count > 0):\n",
    "            props += \", \"\n",
    "        if(type(e[key]) == str):\n",
    "            props += f\"{key}:'{e[key]}'\"\n",
    "        else:\n",
    "            props += f\"{key}:{e[key]}\"\n",
    "        prop_count += 1\n",
    "    cmd += f\"\\n ({e['_out']})-[:{e['_label']} {{{props}}}]->({e['_in']}),\"\n",
    "    \n",
    "cmd = cmd[:-1]+\";\"\n",
    "print(cmd)\n",
    "cypher(cmd)"
   ]
  }
 ],
 "metadata": {
  "kernelspec": {
   "display_name": "Python 3 (ipykernel)",
   "language": "python",
   "name": "python3"
  },
  "language_info": {
   "codemirror_mode": {
    "name": "ipython",
    "version": 3
   },
   "file_extension": ".py",
   "mimetype": "text/x-python",
   "name": "python",
   "nbconvert_exporter": "python",
   "pygments_lexer": "ipython3",
   "version": "3.8.10"
  }
 },
 "nbformat": 4,
 "nbformat_minor": 5
}
