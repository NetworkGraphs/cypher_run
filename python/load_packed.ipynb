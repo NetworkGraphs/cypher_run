{
 "cells": [
  {
   "cell_type": "markdown",
   "id": "09f0f51b-d23f-48b0-9928-a373fd2be911",
   "metadata": {},
   "source": [
    "# Packed Json Graph\n",
    "A Packed Json Graph is a Json structure that has minimal hierarchy of data and has no graph specific information such as separate edges list"
   ]
  },
  {
   "cell_type": "code",
   "execution_count": 1,
   "id": "abd30964-c806-48f0-9141-79ce94236881",
   "metadata": {},
   "outputs": [],
   "source": [
    "from neo4j import GraphDatabase\n",
    "import cypher_utils as ctl\n",
    "from cypher_utils import cypher\n",
    "import utils as utl\n",
    "\n",
    "ctl.open(\"bolt://localhost:7687\", \"neo4j\", \"test\")"
   ]
  },
  {
   "cell_type": "code",
   "execution_count": 2,
   "id": "6714cfac-c686-411e-ac7a-714ae7ab25e8",
   "metadata": {},
   "outputs": [],
   "source": [
    "packed_json = utl.load_json(\"../data/zigbee_packed.json\")"
   ]
  },
  {
   "cell_type": "code",
   "execution_count": 3,
   "id": "20d1dc56-063d-4a11-8ee2-26aa84e63f31",
   "metadata": {},
   "outputs": [
    {
     "data": {
      "text/plain": [
       "3"
      ]
     },
     "execution_count": 3,
     "metadata": {},
     "output_type": "execute_result"
    }
   ],
   "source": [
    "len(packed_json)"
   ]
  },
  {
   "cell_type": "code",
   "execution_count": 4,
   "id": "c10009e1-9f51-4ea9-8b17-c20f12122f47",
   "metadata": {},
   "outputs": [],
   "source": [
    "cypher(\"match (n) detach delete n\")"
   ]
  },
  {
   "cell_type": "markdown",
   "id": "e2f69451-d548-4b7b-ad61-e8869760d464",
   "metadata": {},
   "source": [
    "create the whole graph with nodes and edges in one cypher command"
   ]
  },
  {
   "cell_type": "code",
   "execution_count": 5,
   "id": "1c13e012-2e27-41ae-b256-790f083c1c30",
   "metadata": {},
   "outputs": [],
   "source": [
    "cmd = ctl.json_packed_to_cypher(packed_json)"
   ]
  },
  {
   "cell_type": "code",
   "execution_count": 7,
   "id": "2f2fee6e-1e66-4ed9-8b45-264e4fa9c0d1",
   "metadata": {},
   "outputs": [
    {
     "name": "stdout",
     "output_type": "stream",
     "text": [
      "5759 bytes saved in zigbee_generic2.cyp\n"
     ]
    }
   ],
   "source": [
    "utl.save_file(\"zigbee_generic.cyp\",cmd)"
   ]
  },
  {
   "cell_type": "code",
   "execution_count": 8,
   "id": "9c03828e-1d61-4a70-8140-b8270d02a470",
   "metadata": {},
   "outputs": [],
   "source": [
    "cypher(cmd)"
   ]
  },
  {
   "cell_type": "code",
   "execution_count": null,
   "id": "575b5587-4536-4817-a215-8b29923de629",
   "metadata": {},
   "outputs": [],
   "source": []
  }
 ],
 "metadata": {
  "kernelspec": {
   "display_name": "Python 3 (ipykernel)",
   "language": "python",
   "name": "python3"
  },
  "language_info": {
   "codemirror_mode": {
    "name": "ipython",
    "version": 3
   },
   "file_extension": ".py",
   "mimetype": "text/x-python",
   "name": "python",
   "nbconvert_exporter": "python",
   "pygments_lexer": "ipython3",
   "version": "3.8.10"
  }
 },
 "nbformat": 4,
 "nbformat_minor": 5
}
