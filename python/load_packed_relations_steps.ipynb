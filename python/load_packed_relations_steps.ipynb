{
 "cells": [
  {
   "cell_type": "markdown",
   "id": "981d0742-0c99-4892-91aa-b68f77501b43",
   "metadata": {},
   "source": [
    "# Packed Json Graph with Relations - Steps\n",
    "A Packed Json Graph is a Json structure that has minimal hierarchy of data and has no graph specific information such as separate edges list"
   ]
  },
  {
   "cell_type": "code",
   "execution_count": 16,
   "id": "abd30964-c806-48f0-9141-79ce94236881",
   "metadata": {},
   "outputs": [],
   "source": [
    "from neo4j import GraphDatabase\n",
    "import cypher_utils as ctl\n",
    "from cypher_utils import cypher\n",
    "import utils as utl\n",
    "\n",
    "ctl.open(\"bolt://localhost:7687\", \"neo4j\", \"test\")"
   ]
  },
  {
   "cell_type": "code",
   "execution_count": 25,
   "id": "6714cfac-c686-411e-ac7a-714ae7ab25e8",
   "metadata": {},
   "outputs": [
    {
     "name": "stdout",
     "output_type": "stream",
     "text": [
      "{'Coordinators': {'Devices': 'coordinates'}, 'Rooms': {'Devices': 'contains'}}\n"
     ]
    }
   ],
   "source": [
    "packed_json = utl.load_json(\"../data/zigbee_packed.json\")\n",
    "len(packed_json)\n",
    "relations_map = utl.load_json(\"../data/zigbee_optional_relations.json\")\n",
    "print(relations_map)"
   ]
  },
  {
   "cell_type": "code",
   "execution_count": 26,
   "id": "c10009e1-9f51-4ea9-8b17-c20f12122f47",
   "metadata": {},
   "outputs": [],
   "source": [
    "cypher(\"match (n) detach delete n\")"
   ]
  },
  {
   "cell_type": "code",
   "execution_count": 27,
   "id": "1c13e012-2e27-41ae-b256-790f083c1c30",
   "metadata": {},
   "outputs": [],
   "source": [
    "def stringify_props(name,node,packed_json):\n",
    "    props = f\"name:'{name}'\"\n",
    "    for key,prop_val in node.items():\n",
    "        if(key in packed_json):#This is a relationship not a property, so skip in node creation\n",
    "            continue\n",
    "        if(type(node[key]) == str):\n",
    "            props += f\", {key}:'{node[key]}'\"\n",
    "        else:\n",
    "            props += f\", {key}:{node[key]}\"\n",
    "    return props\n",
    "\n",
    "def stringify_relations_map(source,Label1,node,packed_json,relations_map):\n",
    "    relations_cypher = \"\"\n",
    "    for Label2,prop_val in node.items():\n",
    "        if(Label2 in packed_json):\n",
    "            assert(isinstance(prop_val,list))\n",
    "            for target in prop_val:\n",
    "                rel = \"relatesto\"\n",
    "                #print(f\"{Label1} => {Label2}\")\n",
    "                if(Label1 in relations_map) and (Label2 in relations_map[Label1]):\n",
    "                    rel = relations_map[Label1][Label2]\n",
    "                relations_cypher += f\"\\n (`{source}`)-[:{rel}]->(`{target}`),\"\n",
    "    return relations_cypher"
   ]
  },
  {
   "cell_type": "code",
   "execution_count": 28,
   "id": "e6dfe2a6-6d1a-4fb6-9fcd-92c27a888f21",
   "metadata": {},
   "outputs": [],
   "source": [
    "def json_packed_to_cypher(packed_json,relations_map=None):\n",
    "    cmd = \"CREATE \"\n",
    "    #Nodes\n",
    "    for Label,Labels_map in packed_json.items():\n",
    "        for name,node in Labels_map.items():\n",
    "            props = stringify_props(name,node,packed_json)\n",
    "            cmd += f\"\\n (`{name}`:{Label} {{{props}}}),\"\n",
    "    #Relationships\n",
    "    for Label,Labels_map in packed_json.items():\n",
    "        for name,node in Labels_map.items():\n",
    "            if(relations_map is not None):\n",
    "                cmd += stringify_relations_map(name,Label,node,packed_json,relations_map)\n",
    "            else:\n",
    "                cmd += stringify_relations(name,node,packed_json)\n",
    "    cmd = cmd[:-1]+\";\"\n",
    "    return cmd"
   ]
  },
  {
   "cell_type": "code",
   "execution_count": 29,
   "id": "4b3ddebd-0d16-40b5-bbc3-b3495d275183",
   "metadata": {},
   "outputs": [
    {
     "name": "stdout",
     "output_type": "stream",
     "text": [
      "CREATE \n",
      " (`lzig`:Coordinators {name:'lzig', hostname:'lifo', zigbee_channel:13}),\n",
      " (`mzig`:Coordinators {name:'mzig', hostname:'mano', zigbee_channel:26}),\n",
      " (`bedroom`:Rooms {name:'bedroom'}),\n",
      " (`balcony`:Rooms {name:'balcony'}),\n",
      " (`livingroom`:Rooms {name:'livingroom'}),\n",
      " (`bathroom`:Rooms {name:'bathroom'}),\n",
      " (`office`:Rooms {name:'office'}),\n",
      " (`hallway`:Rooms {name:'hallway'}),\n",
      " (`kitchen`:Rooms {name:'kitchen'}),\n",
      " (`mano power`:Devices {name:'mano power', mac:'0x00124b001d4a012d'}),\n",
      " (`floody`:Devices {name:'floody', mac:'0x00158d000255fb8b'}),\n",
      " (`desk motion`:Devices {name:'desk motion', mac:'0x00158d0002a4f61e'}),\n",
      " (`cube`:Devices {name:'cube', mac:'0x00158d00028f8531'}),\n",
      " (`bed light button`:Devices {name:'bed light button', mac:'0x00158d0001ef6374'}),\n",
      " (`bed weather`:Devices {name:'bed weather', mac:'0x00158d00026ecd6a'}),\n",
      " (`balcony weather`:Devices {name:'balcony weather', mac:'0x00158d000237df83'}),\n",
      " (`balcony window left`:Devices {name:'balcony window left', mac:'0x00158d000272623b'}),\n",
      " (`balcony window right`:Devices {name:'balcony window right', mac:'0x00158d0002760208'}),\n",
      " (`balcony door`:Devices {name:'balcony door', mac:'0x00158d0002518c83'}),\n",
      " (`tree button`:Devices {name:'tree button', mac:'0x00158d0001eb81c7'}),\n",
      " (`bed nic button`:Devices {name:'bed nic button', mac:'0x00158d00029078a2'}),\n",
      " (`bathroom fan button`:Devices {name:'bathroom fan button', mac:'0x00158d0002a2c21c'}),\n",
      " (`pc button`:Devices {name:'pc button', mac:'0x00158d0001eb8fc9'}),\n",
      " (`bed heat button`:Devices {name:'bed heat button', mac:'0x00158d0001e7a12b'}),\n",
      " (`office heat`:Devices {name:'office heat', mac:'0x00158d0001922d22'}),\n",
      " (`office chair vibration`:Devices {name:'office chair vibration', mac:'0x00158d0002a4f51d'}),\n",
      " (`cupboard light`:Devices {name:'cupboard light', mac:'0x000d6ffffe9ccd6a'}),\n",
      " (`power lifo`:Devices {name:'power lifo', mac:'0x00124b001d4a014b'}),\n",
      " (`coord lifo`:Devices {name:'coord lifo', mac:'0x00124b0018ed23a5'}),\n",
      " (`living heat`:Devices {name:'living heat', mac:'0x00158d000192dd3e'}),\n",
      " (`office window right`:Devices {name:'office window right', mac:'0x00158d0004240973'}),\n",
      " (`office window left`:Devices {name:'office window left', mac:'0x00158d0004237aad'}),\n",
      " (`office weather`:Devices {name:'office weather', mac:'0x00158d0002476b04'}),\n",
      " (`office switch`:Devices {name:'office switch', mac:'0x00158d00028f7fb5'}),\n",
      " (`bedroom window`:Devices {name:'bedroom window', mac:'0x00158d00041a3bfe'}),\n",
      " (`kitchen window`:Devices {name:'kitchen window', mac:'0x00158d00041a3b31'}),\n",
      " (`power router`:Devices {name:'power router', mac:'0x00124b001c2f1279'}),\n",
      " (`bathroom heat`:Devices {name:'bathroom heat', mac:'0x00158d0001922d10'}),\n",
      " (`kitchen heat`:Devices {name:'kitchen heat', mac:'0x00158d0001922ce9'}),\n",
      " (`tv button`:Devices {name:'tv button', mac:'0xccccccfffee20ebd'}),\n",
      " (`bedroom heat`:Devices {name:'bedroom heat', mac:'0x00158d0001922d4f'}),\n",
      " (`lzig`)-[:coordinates]->(`power lifo`),\n",
      " (`lzig`)-[:coordinates]->(`coord lifo`),\n",
      " (`lzig`)-[:coordinates]->(`living heat`),\n",
      " (`lzig`)-[:coordinates]->(`office window right`),\n",
      " (`lzig`)-[:coordinates]->(`office window left`),\n",
      " (`lzig`)-[:coordinates]->(`office weather`),\n",
      " (`lzig`)-[:coordinates]->(`office switch`),\n",
      " (`lzig`)-[:coordinates]->(`bedroom window`),\n",
      " (`lzig`)-[:coordinates]->(`kitchen window`),\n",
      " (`lzig`)-[:coordinates]->(`power router`),\n",
      " (`lzig`)-[:coordinates]->(`bathroom heat`),\n",
      " (`lzig`)-[:coordinates]->(`kitchen heat`),\n",
      " (`lzig`)-[:coordinates]->(`tv button`),\n",
      " (`lzig`)-[:coordinates]->(`bedroom heat`),\n",
      " (`mzig`)-[:coordinates]->(`mano power`),\n",
      " (`mzig`)-[:coordinates]->(`floody`),\n",
      " (`mzig`)-[:coordinates]->(`desk motion`),\n",
      " (`mzig`)-[:coordinates]->(`cube`),\n",
      " (`mzig`)-[:coordinates]->(`bed light button`),\n",
      " (`mzig`)-[:coordinates]->(`bed weather`),\n",
      " (`mzig`)-[:coordinates]->(`balcony weather`),\n",
      " (`mzig`)-[:coordinates]->(`balcony window left`),\n",
      " (`mzig`)-[:coordinates]->(`balcony window right`),\n",
      " (`mzig`)-[:coordinates]->(`balcony door`),\n",
      " (`mzig`)-[:coordinates]->(`tree button`),\n",
      " (`mzig`)-[:coordinates]->(`bed nic button`),\n",
      " (`mzig`)-[:coordinates]->(`bathroom fan button`),\n",
      " (`mzig`)-[:coordinates]->(`pc button`),\n",
      " (`mzig`)-[:coordinates]->(`bed heat button`),\n",
      " (`mzig`)-[:coordinates]->(`office heat`),\n",
      " (`mzig`)-[:coordinates]->(`office chair vibration`),\n",
      " (`mzig`)-[:coordinates]->(`cupboard light`),\n",
      " (`bedroom`)-[:contains]->(`bed light button`),\n",
      " (`bedroom`)-[:contains]->(`bed weather`),\n",
      " (`bedroom`)-[:contains]->(`bed nic button`),\n",
      " (`bedroom`)-[:contains]->(`bed heat button`),\n",
      " (`bedroom`)-[:contains]->(`bedroom window`),\n",
      " (`bedroom`)-[:contains]->(`bedroom heat`),\n",
      " (`balcony`)-[:contains]->(`balcony weather`),\n",
      " (`livingroom`)-[:contains]->(`balcony window left`),\n",
      " (`livingroom`)-[:contains]->(`balcony window right`),\n",
      " (`livingroom`)-[:contains]->(`balcony door`),\n",
      " (`livingroom`)-[:contains]->(`coord lifo`),\n",
      " (`livingroom`)-[:contains]->(`living heat`),\n",
      " (`livingroom`)-[:contains]->(`tv button`),\n",
      " (`bathroom`)-[:contains]->(`floody`),\n",
      " (`bathroom`)-[:contains]->(`bathroom fan button`),\n",
      " (`bathroom`)-[:contains]->(`bathroom heat`),\n",
      " (`office`)-[:contains]->(`desk motion`),\n",
      " (`office`)-[:contains]->(`cube`),\n",
      " (`office`)-[:contains]->(`tree button`),\n",
      " (`office`)-[:contains]->(`pc button`),\n",
      " (`office`)-[:contains]->(`office heat`),\n",
      " (`office`)-[:contains]->(`office chair vibration`),\n",
      " (`office`)-[:contains]->(`office window right`),\n",
      " (`office`)-[:contains]->(`office window left`),\n",
      " (`office`)-[:contains]->(`office weather`),\n",
      " (`office`)-[:contains]->(`office switch`),\n",
      " (`hallway`)-[:contains]->(`mano power`),\n",
      " (`hallway`)-[:contains]->(`cupboard light`),\n",
      " (`hallway`)-[:contains]->(`power lifo`),\n",
      " (`hallway`)-[:contains]->(`power router`),\n",
      " (`kitchen`)-[:contains]->(`kitchen window`),\n",
      " (`kitchen`)-[:contains]->(`kitchen heat`);\n"
     ]
    }
   ],
   "source": [
    "cmd = json_packed_to_cypher(packed_json,relations_map)\n",
    "print(cmd)"
   ]
  },
  {
   "cell_type": "code",
   "execution_count": 30,
   "id": "2f2fee6e-1e66-4ed9-8b45-264e4fa9c0d1",
   "metadata": {},
   "outputs": [
    {
     "name": "stdout",
     "output_type": "stream",
     "text": [
      "5791 bytes saved in zigbee_relations.cyp\n"
     ]
    }
   ],
   "source": [
    "utl.save_file(\"zigbee_relations.cyp\",cmd)"
   ]
  },
  {
   "cell_type": "code",
   "execution_count": 31,
   "id": "9c03828e-1d61-4a70-8140-b8270d02a470",
   "metadata": {},
   "outputs": [],
   "source": [
    "cypher(cmd)"
   ]
  },
  {
   "cell_type": "code",
   "execution_count": null,
   "id": "b2c550c0-0b65-42a4-9a17-dde5caec0a92",
   "metadata": {},
   "outputs": [],
   "source": []
  }
 ],
 "metadata": {
  "kernelspec": {
   "display_name": "Python 3 (ipykernel)",
   "language": "python",
   "name": "python3"
  },
  "language_info": {
   "codemirror_mode": {
    "name": "ipython",
    "version": 3
   },
   "file_extension": ".py",
   "mimetype": "text/x-python",
   "name": "python",
   "nbconvert_exporter": "python",
   "pygments_lexer": "ipython3",
   "version": "3.8.10"
  }
 },
 "nbformat": 4,
 "nbformat_minor": 5
}
