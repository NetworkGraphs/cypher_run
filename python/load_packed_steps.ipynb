{
 "cells": [
  {
   "cell_type": "markdown",
   "id": "981d0742-0c99-4892-91aa-b68f77501b43",
   "metadata": {},
   "source": [
    "# Packed Json Graph - Steps\n",
    "A Packed Json Graph is a Json structure that has minimal hierarchy of data and has no graph specific information such as separate edges list"
   ]
  },
  {
   "cell_type": "code",
   "execution_count": 1,
   "id": "abd30964-c806-48f0-9141-79ce94236881",
   "metadata": {},
   "outputs": [],
   "source": [
    "from neo4j import GraphDatabase\n",
    "import cypher_utils as ctl\n",
    "from cypher_utils import cypher\n",
    "import utils as utl\n",
    "\n",
    "ctl.open(\"bolt://localhost:7687\", \"neo4j\", \"test\")"
   ]
  },
  {
   "cell_type": "code",
   "execution_count": 2,
   "id": "6714cfac-c686-411e-ac7a-714ae7ab25e8",
   "metadata": {},
   "outputs": [],
   "source": [
    "packed_json = utl.load_json(\"../data/zigbee_packed.json\")"
   ]
  },
  {
   "cell_type": "code",
   "execution_count": 3,
   "id": "20d1dc56-063d-4a11-8ee2-26aa84e63f31",
   "metadata": {},
   "outputs": [
    {
     "data": {
      "text/plain": [
       "3"
      ]
     },
     "execution_count": 3,
     "metadata": {},
     "output_type": "execute_result"
    }
   ],
   "source": [
    "len(packed_json)"
   ]
  },
  {
   "cell_type": "code",
   "execution_count": 23,
   "id": "c10009e1-9f51-4ea9-8b17-c20f12122f47",
   "metadata": {},
   "outputs": [],
   "source": [
    "cypher(\"match (n) detach delete n\")"
   ]
  },
  {
   "cell_type": "markdown",
   "id": "e2f69451-d548-4b7b-ad61-e8869760d464",
   "metadata": {},
   "source": [
    "convert a packed json graph to cypher commands"
   ]
  },
  {
   "cell_type": "code",
   "execution_count": 25,
   "id": "1c13e012-2e27-41ae-b256-790f083c1c30",
   "metadata": {},
   "outputs": [
    {
     "name": "stdout",
     "output_type": "stream",
     "text": [
      "CREATE \n",
      " (`lzig`:Coordinators {name:'lzig', hostname:'lifo', zigbee_channel:13}),\n",
      " (`mzig`:Coordinators {name:'mzig', hostname:'mano', zigbee_channel:26}),\n",
      " (`bedroom`:Rooms {name:'bedroom'}),\n",
      " (`balcony`:Rooms {name:'balcony'}),\n",
      " (`livingroom`:Rooms {name:'livingroom'}),\n",
      " (`bathroom`:Rooms {name:'bathroom'}),\n",
      " (`office`:Rooms {name:'office'}),\n",
      " (`hallway`:Rooms {name:'hallway'}),\n",
      " (`kitchen`:Rooms {name:'kitchen'}),\n",
      " (`mano power`:Devices {name:'mano power', mac:'0x00124b001d4a012d'}),\n",
      " (`floody`:Devices {name:'floody', mac:'0x00158d000255fb8b'}),\n",
      " (`desk motion`:Devices {name:'desk motion', mac:'0x00158d0002a4f61e'}),\n",
      " (`cube`:Devices {name:'cube', mac:'0x00158d00028f8531'}),\n",
      " (`bed light button`:Devices {name:'bed light button', mac:'0x00158d0001ef6374'}),\n",
      " (`bed weather`:Devices {name:'bed weather', mac:'0x00158d00026ecd6a'}),\n",
      " (`balcony weather`:Devices {name:'balcony weather', mac:'0x00158d000237df83'}),\n",
      " (`balcony window left`:Devices {name:'balcony window left', mac:'0x00158d000272623b'}),\n",
      " (`balcony window right`:Devices {name:'balcony window right', mac:'0x00158d0002760208'}),\n",
      " (`balcony door`:Devices {name:'balcony door', mac:'0x00158d0002518c83'}),\n",
      " (`tree button`:Devices {name:'tree button', mac:'0x00158d0001eb81c7'}),\n",
      " (`bed nic button`:Devices {name:'bed nic button', mac:'0x00158d00029078a2'}),\n",
      " (`bathroom fan button`:Devices {name:'bathroom fan button', mac:'0x00158d0002a2c21c'}),\n",
      " (`pc button`:Devices {name:'pc button', mac:'0x00158d0001eb8fc9'}),\n",
      " (`bed heat button`:Devices {name:'bed heat button', mac:'0x00158d0001e7a12b'}),\n",
      " (`office heat`:Devices {name:'office heat', mac:'0x00158d0001922d22'}),\n",
      " (`office chair vibration`:Devices {name:'office chair vibration', mac:'0x00158d0002a4f51d'}),\n",
      " (`cupboard light`:Devices {name:'cupboard light', mac:'0x000d6ffffe9ccd6a'}),\n",
      " (`power lifo`:Devices {name:'power lifo', mac:'0x00124b001d4a014b'}),\n",
      " (`coord lifo`:Devices {name:'coord lifo', mac:'0x00124b0018ed23a5'}),\n",
      " (`living heat`:Devices {name:'living heat', mac:'0x00158d000192dd3e'}),\n",
      " (`office window right`:Devices {name:'office window right', mac:'0x00158d0004240973'}),\n",
      " (`office window left`:Devices {name:'office window left', mac:'0x00158d0004237aad'}),\n",
      " (`office weather`:Devices {name:'office weather', mac:'0x00158d0002476b04'}),\n",
      " (`office switch`:Devices {name:'office switch', mac:'0x00158d00028f7fb5'}),\n",
      " (`bedroom window`:Devices {name:'bedroom window', mac:'0x00158d00041a3bfe'}),\n",
      " (`kitchen window`:Devices {name:'kitchen window', mac:'0x00158d00041a3b31'}),\n",
      " (`power router`:Devices {name:'power router', mac:'0x00124b001c2f1279'}),\n",
      " (`bathroom heat`:Devices {name:'bathroom heat', mac:'0x00158d0001922d10'}),\n",
      " (`kitchen heat`:Devices {name:'kitchen heat', mac:'0x00158d0001922ce9'}),\n",
      " (`tv button`:Devices {name:'tv button', mac:'0xccccccfffee20ebd'}),\n",
      " (`bedroom heat`:Devices {name:'bedroom heat', mac:'0x00158d0001922d4f'}),\n",
      " (`lzig`)-[:relatesto]->(`power lifo`),\n",
      " (`lzig`)-[:relatesto]->(`coord lifo`),\n",
      " (`lzig`)-[:relatesto]->(`living heat`),\n",
      " (`lzig`)-[:relatesto]->(`office window right`),\n",
      " (`lzig`)-[:relatesto]->(`office window left`),\n",
      " (`lzig`)-[:relatesto]->(`office weather`),\n",
      " (`lzig`)-[:relatesto]->(`office switch`),\n",
      " (`lzig`)-[:relatesto]->(`bedroom window`),\n",
      " (`lzig`)-[:relatesto]->(`kitchen window`),\n",
      " (`lzig`)-[:relatesto]->(`power router`),\n",
      " (`lzig`)-[:relatesto]->(`bathroom heat`),\n",
      " (`lzig`)-[:relatesto]->(`kitchen heat`),\n",
      " (`lzig`)-[:relatesto]->(`tv button`),\n",
      " (`lzig`)-[:relatesto]->(`bedroom heat`),\n",
      " (`mzig`)-[:relatesto]->(`mano power`),\n",
      " (`mzig`)-[:relatesto]->(`floody`),\n",
      " (`mzig`)-[:relatesto]->(`desk motion`),\n",
      " (`mzig`)-[:relatesto]->(`cube`),\n",
      " (`mzig`)-[:relatesto]->(`bed light button`),\n",
      " (`mzig`)-[:relatesto]->(`bed weather`),\n",
      " (`mzig`)-[:relatesto]->(`balcony weather`),\n",
      " (`mzig`)-[:relatesto]->(`balcony window left`),\n",
      " (`mzig`)-[:relatesto]->(`balcony window right`),\n",
      " (`mzig`)-[:relatesto]->(`balcony door`),\n",
      " (`mzig`)-[:relatesto]->(`tree button`),\n",
      " (`mzig`)-[:relatesto]->(`bed nic button`),\n",
      " (`mzig`)-[:relatesto]->(`bathroom fan button`),\n",
      " (`mzig`)-[:relatesto]->(`pc button`),\n",
      " (`mzig`)-[:relatesto]->(`bed heat button`),\n",
      " (`mzig`)-[:relatesto]->(`office heat`),\n",
      " (`mzig`)-[:relatesto]->(`office chair vibration`),\n",
      " (`mzig`)-[:relatesto]->(`cupboard light`),\n",
      " (`bedroom`)-[:relatesto]->(`bed light button`),\n",
      " (`bedroom`)-[:relatesto]->(`bed weather`),\n",
      " (`bedroom`)-[:relatesto]->(`bed nic button`),\n",
      " (`bedroom`)-[:relatesto]->(`bed heat button`),\n",
      " (`bedroom`)-[:relatesto]->(`bedroom window`),\n",
      " (`bedroom`)-[:relatesto]->(`bedroom heat`),\n",
      " (`balcony`)-[:relatesto]->(`balcony weather`),\n",
      " (`livingroom`)-[:relatesto]->(`balcony window left`),\n",
      " (`livingroom`)-[:relatesto]->(`balcony window right`),\n",
      " (`livingroom`)-[:relatesto]->(`balcony door`),\n",
      " (`livingroom`)-[:relatesto]->(`coord lifo`),\n",
      " (`livingroom`)-[:relatesto]->(`living heat`),\n",
      " (`livingroom`)-[:relatesto]->(`tv button`),\n",
      " (`bathroom`)-[:relatesto]->(`floody`),\n",
      " (`bathroom`)-[:relatesto]->(`bathroom fan button`),\n",
      " (`bathroom`)-[:relatesto]->(`bathroom heat`),\n",
      " (`office`)-[:relatesto]->(`desk motion`),\n",
      " (`office`)-[:relatesto]->(`cube`),\n",
      " (`office`)-[:relatesto]->(`tree button`),\n",
      " (`office`)-[:relatesto]->(`pc button`),\n",
      " (`office`)-[:relatesto]->(`office heat`),\n",
      " (`office`)-[:relatesto]->(`office chair vibration`),\n",
      " (`office`)-[:relatesto]->(`office window right`),\n",
      " (`office`)-[:relatesto]->(`office window left`),\n",
      " (`office`)-[:relatesto]->(`office weather`),\n",
      " (`office`)-[:relatesto]->(`office switch`),\n",
      " (`hallway`)-[:relatesto]->(`mano power`),\n",
      " (`hallway`)-[:relatesto]->(`cupboard light`),\n",
      " (`hallway`)-[:relatesto]->(`power lifo`),\n",
      " (`hallway`)-[:relatesto]->(`power router`),\n",
      " (`kitchen`)-[:relatesto]->(`kitchen window`),\n",
      " (`kitchen`)-[:relatesto]->(`kitchen heat`);\n"
     ]
    }
   ],
   "source": [
    "def stringify_props(name,node,packed_json):\n",
    "    props = f\"name:'{name}'\"\n",
    "    for key,prop_val in node.items():\n",
    "        if(key in packed_json):#This is a relationship not a property, so skip in node creation\n",
    "            continue\n",
    "        if(type(node[key]) == str):\n",
    "            props += f\", {key}:'{node[key]}'\"\n",
    "        else:\n",
    "            props += f\", {key}:{node[key]}\"\n",
    "    return props\n",
    "\n",
    "def stringify_relations(name,node,packed_json):\n",
    "    relations = \"\"\n",
    "    for key,prop_val in node.items():\n",
    "        if(key in packed_json):\n",
    "            assert(isinstance(prop_val,list))\n",
    "            for target in prop_val:\n",
    "                relations += f\"\\n (`{name}`)-[:relatesto]->(`{target}`),\"\n",
    "    return relations\n",
    "    \n",
    "cmd = \"CREATE \"\n",
    "#Nodes\n",
    "for Label,Labels_map in packed_json.items():\n",
    "    for name,node in Labels_map.items():\n",
    "        props = stringify_props(name,node,packed_json)\n",
    "        cmd += f\"\\n (`{name}`:{Label} {{{props}}}),\"\n",
    "#Relationships\n",
    "for Label,Labels_map in packed_json.items():\n",
    "    for name,node in Labels_map.items():\n",
    "        cmd += stringify_relations(name,node,packed_json)\n",
    "cmd = cmd[:-1]+\";\"\n",
    "print(cmd)"
   ]
  },
  {
   "cell_type": "code",
   "execution_count": 26,
   "id": "2f2fee6e-1e66-4ed9-8b45-264e4fa9c0d1",
   "metadata": {},
   "outputs": [
    {
     "name": "stdout",
     "output_type": "stream",
     "text": [
      "5759 bytes saved in zigbee_generic.cyp\n"
     ]
    }
   ],
   "source": [
    "utl.save_file(\"zigbee_generic.cyp\",cmd)"
   ]
  },
  {
   "cell_type": "code",
   "execution_count": 24,
   "id": "9c03828e-1d61-4a70-8140-b8270d02a470",
   "metadata": {},
   "outputs": [],
   "source": [
    "cypher(cmd)"
   ]
  }
 ],
 "metadata": {
  "kernelspec": {
   "display_name": "Python 3 (ipykernel)",
   "language": "python",
   "name": "python3"
  },
  "language_info": {
   "codemirror_mode": {
    "name": "ipython",
    "version": 3
   },
   "file_extension": ".py",
   "mimetype": "text/x-python",
   "name": "python",
   "nbconvert_exporter": "python",
   "pygments_lexer": "ipython3",
   "version": "3.8.10"
  }
 },
 "nbformat": 4,
 "nbformat_minor": 5
}
