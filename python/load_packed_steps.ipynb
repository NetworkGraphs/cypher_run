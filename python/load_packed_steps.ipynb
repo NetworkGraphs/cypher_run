{
 "cells": [
  {
   "cell_type": "markdown",
   "id": "981d0742-0c99-4892-91aa-b68f77501b43",
   "metadata": {},
   "source": [
    "# Packed Json Graph - Steps\n",
    "A Packed Json Graph is a Json structure that has minimal hierarchy of data and has no graph specific information such as separate edges list"
   ]
  },
  {
   "cell_type": "code",
   "execution_count": 1,
   "id": "abd30964-c806-48f0-9141-79ce94236881",
   "metadata": {},
   "outputs": [],
   "source": [
    "from neo4j import GraphDatabase\n",
    "import cypher_utils as ctl\n",
    "from cypher_utils import cypher\n",
    "import utils as utl\n",
    "\n",
    "ctl.open(\"bolt://localhost:7687\", \"neo4j\", \"test\")"
   ]
  },
  {
   "cell_type": "code",
   "execution_count": 2,
   "id": "6714cfac-c686-411e-ac7a-714ae7ab25e8",
   "metadata": {},
   "outputs": [
    {
     "data": {
      "text/plain": [
       "3"
      ]
     },
     "execution_count": 2,
     "metadata": {},
     "output_type": "execute_result"
    }
   ],
   "source": [
    "packed_json = utl.load_json(\"../data/zigbee_packed.json\")\n",
    "len(packed_json)"
   ]
  },
  {
   "cell_type": "code",
   "execution_count": 3,
   "id": "c10009e1-9f51-4ea9-8b17-c20f12122f47",
   "metadata": {},
   "outputs": [],
   "source": [
    "cypher(\"match (n) detach delete n\")"
   ]
  },
  {
   "cell_type": "code",
   "execution_count": 4,
   "id": "1c13e012-2e27-41ae-b256-790f083c1c30",
   "metadata": {},
   "outputs": [],
   "source": [
    "def stringify_props(name,node,packed_json):\n",
    "    props = f\"name:'{name}'\"\n",
    "    for key,prop_val in node.items():\n",
    "        if(key in packed_json):#This is a relationship not a property, so skip in node creation\n",
    "            continue\n",
    "        if(type(node[key]) == str):\n",
    "            props += f\", {key}:'{node[key]}'\"\n",
    "        else:\n",
    "            props += f\", {key}:{node[key]}\"\n",
    "    return props\n",
    "\n",
    "def stringify_relations(name,node,packed_json):\n",
    "    relations = \"\"\n",
    "    for key,prop_val in node.items():\n",
    "        if(key in packed_json):\n",
    "            assert(isinstance(prop_val,list))\n",
    "            for target in prop_val:\n",
    "                relations += f\"\\n (`{name}`)-[:relatesto]->(`{target}`),\"\n",
    "    return relations"
   ]
  },
  {
   "cell_type": "code",
   "execution_count": null,
   "id": "e6dfe2a6-6d1a-4fb6-9fcd-92c27a888f21",
   "metadata": {},
   "outputs": [],
   "source": [
    "def json_packed_to_cypher(packed_json):\n",
    "    cmd = \"CREATE \"\n",
    "    #Nodes\n",
    "    for Label,Labels_map in packed_json.items():\n",
    "        for name,node in Labels_map.items():\n",
    "            props = stringify_props(name,node,packed_json)\n",
    "            cmd += f\"\\n (`{name}`:{Label} {{{props}}}),\"\n",
    "    #Relationships\n",
    "    for Label,Labels_map in packed_json.items():\n",
    "        for name,node in Labels_map.items():\n",
    "            cmd += stringify_relations(name,node,packed_json)\n",
    "    cmd = cmd[:-1]+\";\"\n",
    "    return cmd"
   ]
  },
  {
   "cell_type": "code",
   "execution_count": null,
   "id": "4b3ddebd-0d16-40b5-bbc3-b3495d275183",
   "metadata": {},
   "outputs": [],
   "source": [
    "print(cmd)"
   ]
  },
  {
   "cell_type": "code",
   "execution_count": 26,
   "id": "2f2fee6e-1e66-4ed9-8b45-264e4fa9c0d1",
   "metadata": {},
   "outputs": [
    {
     "name": "stdout",
     "output_type": "stream",
     "text": [
      "5759 bytes saved in zigbee_generic.cyp\n"
     ]
    }
   ],
   "source": [
    "utl.save_file(\"zigbee_generic.cyp\",cmd)"
   ]
  },
  {
   "cell_type": "code",
   "execution_count": 24,
   "id": "9c03828e-1d61-4a70-8140-b8270d02a470",
   "metadata": {},
   "outputs": [],
   "source": [
    "cypher(cmd)"
   ]
  }
 ],
 "metadata": {
  "kernelspec": {
   "display_name": "Python 3 (ipykernel)",
   "language": "python",
   "name": "python3"
  },
  "language_info": {
   "codemirror_mode": {
    "name": "ipython",
    "version": 3
   },
   "file_extension": ".py",
   "mimetype": "text/x-python",
   "name": "python",
   "nbconvert_exporter": "python",
   "pygments_lexer": "ipython3",
   "version": "3.8.10"
  }
 },
 "nbformat": 4,
 "nbformat_minor": 5
}
