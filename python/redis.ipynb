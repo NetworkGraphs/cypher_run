{
 "cells": [
  {
   "cell_type": "code",
   "execution_count": 1,
   "id": "6608ca2c-7ea7-477e-9086-a6a2a5bdafe9",
   "metadata": {},
   "outputs": [],
   "source": [
    "import redis\n",
    "\n",
    "r = redis.Redis()"
   ]
  },
  {
   "cell_type": "markdown",
   "id": "8e3ba931-c8d7-45f8-8952-9a04c29e8795",
   "metadata": {},
   "source": [
    "https://redis.io/docs/stack/graph/\n",
    "\n",
    "127.0.0.1:6379> GRAPH.QUERY MotoGP \"CREATE (:Rider {name:'Valentino Rossi'})-[:rides]->(:Team {name:'Yamaha'}), (:Rider {name:'Dani Pedrosa'})-[:rides]->(:Team {name:'Honda'}), (:Rider {name:'Andrea Dovizioso'})-[:rides]->(:Team {name:'Ducati'})\"\n",
    "\n",
    "127.0.0.1:6379> GRAPH.QUERY MotoGP \"MATCH (r:Rider)-[:rides]->(t:Team) WHERE t.name = 'Yamaha' RETURN r.name, t.name\"\n",
    "\n",
    "\n",
    "127.0.0.1:6379> GRAPH.QUERY social \"CREATE (:person {name: 'roi', age: 33, gender: 'male', status: 'married'})\""
   ]
  },
  {
   "cell_type": "code",
   "execution_count": 2,
   "id": "8f7888ae-8d7e-4cf7-95dc-ff29fd24322f",
   "metadata": {},
   "outputs": [],
   "source": [
    "reply = r.graph(\"social\").query(\"MATCH (r:Rider)-[:rides]->(t:Team {name:'Ducati'}) RETURN count(r)\")"
   ]
  },
  {
   "cell_type": "code",
   "execution_count": 20,
   "id": "6a354995-2484-4d15-824c-631562c1981f",
   "metadata": {},
   "outputs": [],
   "source": [
    "reply = r.graph(\"MotoGP\").query(\"MATCH (n) return n\")"
   ]
  },
  {
   "cell_type": "code",
   "execution_count": 21,
   "id": "2313c6f1-b3d8-46af-96c5-1bf7023705b5",
   "metadata": {},
   "outputs": [
    {
     "name": "stdout",
     "output_type": "stream",
     "text": [
      "<class 'redis.commands.graph.query_result.QueryResult'>\n",
      "[[1, b'n']]\n",
      "{'Cached execution': 1.0, 'internal execution time': 0.108539}\n",
      "<redis.commands.graph.Graph object at 0x7f1888048d60>\n",
      "{}\n"
     ]
    }
   ],
   "source": [
    "print(type(reply))\n",
    "print(reply.header)\n",
    "print(reply.statistics)\n",
    "print(reply.graph)\n",
    "g = reply.graph\n",
    "print(g.nodes)"
   ]
  },
  {
   "cell_type": "markdown",
   "id": "24208698-4039-4739-8ea0-92214e582440",
   "metadata": {},
   "source": [
    "multiline throwing error cannot create query with more than one statement"
   ]
  },
  {
   "cell_type": "code",
   "execution_count": 24,
   "id": "fe61ced6-4765-4a7c-8cb8-1e5c4f494289",
   "metadata": {},
   "outputs": [],
   "source": [
    "reply = r.graph(\"Programmers\").query(\"\"\"CREATE  (lop:Program {name:'lop', lang:'java'}), (vadas:Person {name:'vadas', age:27})\"\"\")"
   ]
  }
 ],
 "metadata": {
  "kernelspec": {
   "display_name": "Python 3 (ipykernel)",
   "language": "python",
   "name": "python3"
  },
  "language_info": {
   "codemirror_mode": {
    "name": "ipython",
    "version": 3
   },
   "file_extension": ".py",
   "mimetype": "text/x-python",
   "name": "python",
   "nbconvert_exporter": "python",
   "pygments_lexer": "ipython3",
   "version": "3.8.10"
  }
 },
 "nbformat": 4,
 "nbformat_minor": 5
}
