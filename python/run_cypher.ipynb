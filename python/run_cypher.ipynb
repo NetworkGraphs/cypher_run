{
 "cells": [
  {
   "cell_type": "code",
   "execution_count": 7,
   "id": "abd30964-c806-48f0-9141-79ce94236881",
   "metadata": {},
   "outputs": [],
   "source": [
    "from neo4j import GraphDatabase\n",
    "\n",
    "driver = GraphDatabase.driver(\"bolt://localhost:7687\", auth=(\"neo4j\", \"test\"))"
   ]
  },
  {
   "cell_type": "code",
   "execution_count": 8,
   "id": "3579c3b0-3bd2-4595-a5c0-883833058f51",
   "metadata": {},
   "outputs": [],
   "source": [
    "def run_cypher(cypher_cmd):\n",
    "    def transaction(tx,cypher_cmd):\n",
    "        result = tx.run(cypher_cmd)\n",
    "        ret = result.single()\n",
    "        if(ret is None):\n",
    "            return None\n",
    "        else:\n",
    "            return ret[0]\n",
    "    with driver.session() as session:\n",
    "        result = session.write_transaction(transaction, cypher_cmd)\n",
    "        if(result is not None):\n",
    "            print(result)"
   ]
  },
  {
   "cell_type": "code",
   "execution_count": 9,
   "id": "327a8b16-7aa9-4fa8-b89d-1e99c1409395",
   "metadata": {},
   "outputs": [
    {
     "name": "stdout",
     "output_type": "stream",
     "text": [
      "hellow runner, from node 12\n"
     ]
    }
   ],
   "source": [
    "message = \"hellow runner\"\n",
    "run_cypher(f'''\n",
    "    CREATE (a:Greeting)\n",
    "    SET a.message = '{message}'\n",
    "    RETURN a.message + ', from node ' + id(a)\n",
    "    ''')"
   ]
  },
  {
   "cell_type": "code",
   "execution_count": 6,
   "id": "6aeae2fc-be73-4348-b0e9-f0ce0ca84bec",
   "metadata": {},
   "outputs": [],
   "source": [
    "driver.close()"
   ]
  },
  {
   "cell_type": "code",
   "execution_count": null,
   "id": "45c83592-bc03-4d8e-94fe-ff005b23c735",
   "metadata": {},
   "outputs": [],
   "source": []
  }
 ],
 "metadata": {
  "kernelspec": {
   "display_name": "Python 3 (ipykernel)",
   "language": "python",
   "name": "python3"
  },
  "language_info": {
   "codemirror_mode": {
    "name": "ipython",
    "version": 3
   },
   "file_extension": ".py",
   "mimetype": "text/x-python",
   "name": "python",
   "nbconvert_exporter": "python",
   "pygments_lexer": "ipython3",
   "version": "3.8.10"
  }
 },
 "nbformat": 4,
 "nbformat_minor": 5
}
